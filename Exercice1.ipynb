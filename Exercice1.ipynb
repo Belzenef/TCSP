{
 "cells": [
  {
   "cell_type": "code",
   "execution_count": 43,
   "metadata": {},
   "outputs": [],
   "source": [
    "%matplotlib inline"
   ]
  },
  {
   "cell_type": "code",
   "execution_count": 44,
   "metadata": {},
   "outputs": [],
   "source": [
    "import pandas as pd\n",
    "import numpy as np\n",
    "import matplotlib.pyplot as plt\n",
    "import seaborn as sns\n",
    "import networkx as nx\n",
    "from sets import Set"
   ]
  },
  {
   "cell_type": "markdown",
   "metadata": {},
   "source": [
    "# Importation des fichiers"
   ]
  },
  {
   "cell_type": "markdown",
   "metadata": {},
   "source": [
    "#### GRN_edges_S_cerevisiae.txt"
   ]
  },
  {
   "cell_type": "code",
   "execution_count": 45,
   "metadata": {},
   "outputs": [
    {
     "data": {
      "text/html": [
       "<div>\n",
       "<style scoped>\n",
       "    .dataframe tbody tr th:only-of-type {\n",
       "        vertical-align: middle;\n",
       "    }\n",
       "\n",
       "    .dataframe tbody tr th {\n",
       "        vertical-align: top;\n",
       "    }\n",
       "\n",
       "    .dataframe thead th {\n",
       "        text-align: right;\n",
       "    }\n",
       "</style>\n",
       "<table border=\"1\" class=\"dataframe\">\n",
       "  <thead>\n",
       "    <tr style=\"text-align: right;\">\n",
       "      <th></th>\n",
       "      <th>transcription_factor</th>\n",
       "      <th>target_gene</th>\n",
       "    </tr>\n",
       "  </thead>\n",
       "  <tbody>\n",
       "    <tr>\n",
       "      <th>0</th>\n",
       "      <td>G15</td>\n",
       "      <td>G1</td>\n",
       "    </tr>\n",
       "    <tr>\n",
       "      <th>1</th>\n",
       "      <td>G98</td>\n",
       "      <td>G1</td>\n",
       "    </tr>\n",
       "    <tr>\n",
       "      <th>2</th>\n",
       "      <td>G109</td>\n",
       "      <td>G1</td>\n",
       "    </tr>\n",
       "    <tr>\n",
       "      <th>3</th>\n",
       "      <td>G22</td>\n",
       "      <td>G9</td>\n",
       "    </tr>\n",
       "    <tr>\n",
       "      <th>4</th>\n",
       "      <td>G211</td>\n",
       "      <td>G11</td>\n",
       "    </tr>\n",
       "  </tbody>\n",
       "</table>\n",
       "</div>"
      ],
      "text/plain": [
       "  transcription_factor target_gene\n",
       "0                  G15          G1\n",
       "1                  G98          G1\n",
       "2                 G109          G1\n",
       "3                  G22          G9\n",
       "4                 G211         G11"
      ]
     },
     "execution_count": 45,
     "metadata": {},
     "output_type": "execute_result"
    }
   ],
   "source": [
    "edges=pd.read_csv(\"GRN_edges_S_cerevisiae.txt\",header=0)\n",
    "edges=edges.drop(columns=[\"Unnamed: 0\"])\n",
    "edges.head()"
   ]
  },
  {
   "cell_type": "markdown",
   "metadata": {},
   "source": [
    "#### net4 transcription factors.tsv"
   ]
  },
  {
   "cell_type": "code",
   "execution_count": 46,
   "metadata": {},
   "outputs": [
    {
     "data": {
      "text/html": [
       "<div>\n",
       "<style scoped>\n",
       "    .dataframe tbody tr th:only-of-type {\n",
       "        vertical-align: middle;\n",
       "    }\n",
       "\n",
       "    .dataframe tbody tr th {\n",
       "        vertical-align: top;\n",
       "    }\n",
       "\n",
       "    .dataframe thead th {\n",
       "        text-align: right;\n",
       "    }\n",
       "</style>\n",
       "<table border=\"1\" class=\"dataframe\">\n",
       "  <thead>\n",
       "    <tr style=\"text-align: right;\">\n",
       "      <th></th>\n",
       "      <th>transcription_factor</th>\n",
       "    </tr>\n",
       "  </thead>\n",
       "  <tbody>\n",
       "    <tr>\n",
       "      <th>0</th>\n",
       "      <td>G1</td>\n",
       "    </tr>\n",
       "    <tr>\n",
       "      <th>1</th>\n",
       "      <td>G2</td>\n",
       "    </tr>\n",
       "    <tr>\n",
       "      <th>2</th>\n",
       "      <td>G3</td>\n",
       "    </tr>\n",
       "    <tr>\n",
       "      <th>3</th>\n",
       "      <td>G4</td>\n",
       "    </tr>\n",
       "    <tr>\n",
       "      <th>4</th>\n",
       "      <td>G5</td>\n",
       "    </tr>\n",
       "  </tbody>\n",
       "</table>\n",
       "</div>"
      ],
      "text/plain": [
       "  transcription_factor\n",
       "0                   G1\n",
       "1                   G2\n",
       "2                   G3\n",
       "3                   G4\n",
       "4                   G5"
      ]
     },
     "execution_count": 46,
     "metadata": {},
     "output_type": "execute_result"
    }
   ],
   "source": [
    "factors=pd.read_csv(\"net4_transcription_factors.tsv\",header=0)\n",
    "factors.head()"
   ]
  },
  {
   "cell_type": "markdown",
   "metadata": {},
   "source": [
    "#### net4 gene ids.tsv"
   ]
  },
  {
   "cell_type": "code",
   "execution_count": 47,
   "metadata": {},
   "outputs": [
    {
     "data": {
      "text/html": [
       "<div>\n",
       "<style scoped>\n",
       "    .dataframe tbody tr th:only-of-type {\n",
       "        vertical-align: middle;\n",
       "    }\n",
       "\n",
       "    .dataframe tbody tr th {\n",
       "        vertical-align: top;\n",
       "    }\n",
       "\n",
       "    .dataframe thead th {\n",
       "        text-align: right;\n",
       "    }\n",
       "</style>\n",
       "<table border=\"1\" class=\"dataframe\">\n",
       "  <thead>\n",
       "    <tr style=\"text-align: right;\">\n",
       "      <th></th>\n",
       "      <th>ID</th>\n",
       "      <th>Name</th>\n",
       "    </tr>\n",
       "  </thead>\n",
       "  <tbody>\n",
       "    <tr>\n",
       "      <th>0</th>\n",
       "      <td>G1</td>\n",
       "      <td>YHR084W</td>\n",
       "    </tr>\n",
       "    <tr>\n",
       "      <th>1</th>\n",
       "      <td>G2</td>\n",
       "      <td>YER109C</td>\n",
       "    </tr>\n",
       "    <tr>\n",
       "      <th>2</th>\n",
       "      <td>G3</td>\n",
       "      <td>YDR496C</td>\n",
       "    </tr>\n",
       "    <tr>\n",
       "      <th>3</th>\n",
       "      <td>G4</td>\n",
       "      <td>YBR098W</td>\n",
       "    </tr>\n",
       "    <tr>\n",
       "      <th>4</th>\n",
       "      <td>G5</td>\n",
       "      <td>YNL139C</td>\n",
       "    </tr>\n",
       "  </tbody>\n",
       "</table>\n",
       "</div>"
      ],
      "text/plain": [
       "   ID     Name\n",
       "0  G1  YHR084W\n",
       "1  G2  YER109C\n",
       "2  G3  YDR496C\n",
       "3  G4  YBR098W\n",
       "4  G5  YNL139C"
      ]
     },
     "execution_count": 47,
     "metadata": {},
     "output_type": "execute_result"
    }
   ],
   "source": [
    "geneIDS=pd.read_csv(\"net4_gene_ids.tsv\",sep=\"\\t\",header=0)\n",
    "geneIDS.head()"
   ]
  },
  {
   "cell_type": "markdown",
   "metadata": {},
   "source": [
    "####  go slim mapping.tab.txt"
   ]
  },
  {
   "cell_type": "code",
   "execution_count": 48,
   "metadata": {},
   "outputs": [
    {
     "data": {
      "text/html": [
       "<div>\n",
       "<style scoped>\n",
       "    .dataframe tbody tr th:only-of-type {\n",
       "        vertical-align: middle;\n",
       "    }\n",
       "\n",
       "    .dataframe tbody tr th {\n",
       "        vertical-align: top;\n",
       "    }\n",
       "\n",
       "    .dataframe thead th {\n",
       "        text-align: right;\n",
       "    }\n",
       "</style>\n",
       "<table border=\"1\" class=\"dataframe\">\n",
       "  <thead>\n",
       "    <tr style=\"text-align: right;\">\n",
       "      <th></th>\n",
       "      <th>HRA1</th>\n",
       "      <th>HRA1.1</th>\n",
       "      <th>S000119380</th>\n",
       "      <th>C</th>\n",
       "      <th>cellular_component</th>\n",
       "      <th>GO:0005575</th>\n",
       "      <th>ncRNA_gene</th>\n",
       "    </tr>\n",
       "  </thead>\n",
       "  <tbody>\n",
       "    <tr>\n",
       "      <th>0</th>\n",
       "      <td>HRA1</td>\n",
       "      <td>HRA1</td>\n",
       "      <td>S000119380</td>\n",
       "      <td>F</td>\n",
       "      <td>molecular_function</td>\n",
       "      <td>GO:0003674</td>\n",
       "      <td>ncRNA_gene</td>\n",
       "    </tr>\n",
       "    <tr>\n",
       "      <th>1</th>\n",
       "      <td>HRA1</td>\n",
       "      <td>HRA1</td>\n",
       "      <td>S000119380</td>\n",
       "      <td>P</td>\n",
       "      <td>rRNA processing</td>\n",
       "      <td>GO:0006364</td>\n",
       "      <td>ncRNA_gene</td>\n",
       "    </tr>\n",
       "    <tr>\n",
       "      <th>2</th>\n",
       "      <td>HRA1</td>\n",
       "      <td>HRA1</td>\n",
       "      <td>S000119380</td>\n",
       "      <td>P</td>\n",
       "      <td>ribosomal small subunit biogenesis</td>\n",
       "      <td>GO:0042274</td>\n",
       "      <td>ncRNA_gene</td>\n",
       "    </tr>\n",
       "    <tr>\n",
       "      <th>3</th>\n",
       "      <td>ICR1</td>\n",
       "      <td>ICR1</td>\n",
       "      <td>S000132612</td>\n",
       "      <td>C</td>\n",
       "      <td>nucleus</td>\n",
       "      <td>GO:0005634</td>\n",
       "      <td>ncRNA_gene</td>\n",
       "    </tr>\n",
       "    <tr>\n",
       "      <th>4</th>\n",
       "      <td>ICR1</td>\n",
       "      <td>ICR1</td>\n",
       "      <td>S000132612</td>\n",
       "      <td>F</td>\n",
       "      <td>molecular_function</td>\n",
       "      <td>GO:0003674</td>\n",
       "      <td>ncRNA_gene</td>\n",
       "    </tr>\n",
       "  </tbody>\n",
       "</table>\n",
       "</div>"
      ],
      "text/plain": [
       "   HRA1 HRA1.1  S000119380  C                  cellular_component  GO:0005575  \\\n",
       "0  HRA1   HRA1  S000119380  F                  molecular_function  GO:0003674   \n",
       "1  HRA1   HRA1  S000119380  P                     rRNA processing  GO:0006364   \n",
       "2  HRA1   HRA1  S000119380  P  ribosomal small subunit biogenesis  GO:0042274   \n",
       "3  ICR1   ICR1  S000132612  C                             nucleus  GO:0005634   \n",
       "4  ICR1   ICR1  S000132612  F                  molecular_function  GO:0003674   \n",
       "\n",
       "   ncRNA_gene  \n",
       "0  ncRNA_gene  \n",
       "1  ncRNA_gene  \n",
       "2  ncRNA_gene  \n",
       "3  ncRNA_gene  \n",
       "4  ncRNA_gene  "
      ]
     },
     "execution_count": 48,
     "metadata": {},
     "output_type": "execute_result"
    }
   ],
   "source": [
    "mapping=pd.read_csv(\"go_slim_mapping.tab.txt\",sep=\"\\t\",header=0)\n",
    "mapping.head()"
   ]
  },
  {
   "cell_type": "markdown",
   "metadata": {},
   "source": [
    "# Représentations du graphe"
   ]
  },
  {
   "cell_type": "markdown",
   "metadata": {},
   "source": [
    "## Graphe complet"
   ]
  },
  {
   "cell_type": "code",
   "execution_count": 49,
   "metadata": {},
   "outputs": [],
   "source": [
    "GC=nx.from_pandas_dataframe(edges,'transcription_factor','target_gene',create_using=nx.DiGraph())"
   ]
  },
  {
   "cell_type": "code",
   "execution_count": 50,
   "metadata": {},
   "outputs": [],
   "source": [
    "GC.add_nodes_from(geneIDS[\"ID\"])\n",
    "GC.add_nodes_from(factors['transcription_factor'])"
   ]
  },
  {
   "cell_type": "code",
   "execution_count": 51,
   "metadata": {},
   "outputs": [],
   "source": [
    "nodecolor=list()\n",
    "nodesize=list()\n",
    "for node in list(GC.nodes) :\n",
    "    if node in list(factors['transcription_factor']) :\n",
    "        nodecolor.append('deeppink')\n",
    "        nodesize.append(3000)\n",
    "    else :\n",
    "        nodecolor.append('cornflowerblue')\n",
    "        nodesize.append(1500)"
   ]
  },
  {
   "cell_type": "code",
   "execution_count": null,
   "metadata": {},
   "outputs": [],
   "source": [
    "plt.figure(figsize=(150,150))\n",
    "nx.draw_networkx(GC, node_size=nodesize, with_labels=False, node_color=nodecolor,\n",
    "                 arrowstyle='Fancy, head_length=.1,head_width=.4, tail_width=0.1')\n",
    "plt.savefig(\"GC.png\")"
   ]
  },
  {
   "cell_type": "markdown",
   "metadata": {},
   "source": [
    "## Graphe de la région régulatoire (centre connecté)"
   ]
  },
  {
   "cell_type": "markdown",
   "metadata": {},
   "source": [
    "#### Répartition des facteurs de transcription"
   ]
  },
  {
   "cell_type": "code",
   "execution_count": null,
   "metadata": {},
   "outputs": [],
   "source": [
    "G=nx.from_pandas_dataframe(edges,'transcription_factor','target_gene',create_using=nx.DiGraph())"
   ]
  },
  {
   "cell_type": "code",
   "execution_count": null,
   "metadata": {},
   "outputs": [],
   "source": [
    "nodecolor=list()\n",
    "nodesize=list()\n",
    "for node in list(G.nodes) :\n",
    "    if node in list(edges['transcription_factor']) :\n",
    "        nodecolor.append('deeppink')\n",
    "        nodesize.append(3000)\n",
    "    else :\n",
    "        nodecolor.append('cornflowerblue')\n",
    "        nodesize.append(1500)"
   ]
  },
  {
   "cell_type": "code",
   "execution_count": null,
   "metadata": {},
   "outputs": [],
   "source": [
    "plt.figure(figsize=(150,150))\n",
    "nx.draw_networkx(G, node_size=nodesize, with_labels=False, node_color=nodecolor,\n",
    "                 arrowstyle='Fancy, head_length=.1,head_width=.4, tail_width=0.1')\n",
    "plt.savefig(\"G.png\")"
   ]
  },
  {
   "cell_type": "code",
   "execution_count": null,
   "metadata": {},
   "outputs": [],
   "source": [
    "plt.figure(figsize=(200,200))\n",
    "pos=nx.nx_agraph.graphviz_layout(G)\n",
    "nx.draw_networkx(G,pos=pos, node_size=nodesize, with_labels=False, node_color=nodecolor,\n",
    "                 arrowstyle='Fancy, head_length=.1,head_width=.4, tail_width=0.1')\n",
    "plt.savefig(\"G_layout.png\")"
   ]
  },
  {
   "cell_type": "markdown",
   "metadata": {},
   "source": [
    "#### Matrice d'adjacence"
   ]
  },
  {
   "cell_type": "code",
   "execution_count": null,
   "metadata": {},
   "outputs": [],
   "source": [
    "adjacence=nx.to_numpy_matrix(G)\n",
    "sns.set_style(\"whitegrid\")\n",
    "plt.figure(figsize=(20,12))\n",
    "plt.imshow(adjacence)\n",
    "plt.xticks(fontsize=20)\n",
    "plt.yticks(fontsize=20)"
   ]
  },
  {
   "cell_type": "markdown",
   "metadata": {},
   "source": [
    "# Description du graphe"
   ]
  },
  {
   "cell_type": "markdown",
   "metadata": {},
   "source": [
    "#### Diamètre et distance moyenne"
   ]
  },
  {
   "cell_type": "code",
   "execution_count": null,
   "metadata": {},
   "outputs": [],
   "source": [
    "# implémenter les 2 algo\n",
    "# commenter valeur diamètre\n",
    "# boxplot des dist moyennes"
   ]
  },
  {
   "cell_type": "markdown",
   "metadata": {},
   "source": [
    "#### Degrés des noeuds"
   ]
  },
  {
   "cell_type": "code",
   "execution_count": null,
   "metadata": {},
   "outputs": [],
   "source": [
    "# boxplot des degrés (cf TP conectome)\n",
    "Deg=nx.degree_centrality(G)\n",
    "for d in Deg:\n",
    "    print(Deg[d])"
   ]
  },
  {
   "cell_type": "markdown",
   "metadata": {},
   "source": [
    "#### Rich club coeficients"
   ]
  },
  {
   "cell_type": "code",
   "execution_count": null,
   "metadata": {},
   "outputs": [],
   "source": [
    "# courbe avec threshold, eventuellement représenter le rich club ? (sous graphe)"
   ]
  },
  {
   "cell_type": "markdown",
   "metadata": {},
   "source": [
    "#### Densité"
   ]
  },
  {
   "cell_type": "code",
   "execution_count": null,
   "metadata": {},
   "outputs": [],
   "source": []
  },
  {
   "cell_type": "markdown",
   "metadata": {},
   "source": [
    "#### Betweeness centrality"
   ]
  },
  {
   "cell_type": "code",
   "execution_count": null,
   "metadata": {},
   "outputs": [],
   "source": [
    "# boxplot"
   ]
  },
  {
   "cell_type": "markdown",
   "metadata": {},
   "source": [
    "#### Coeficients de clustering (Local et Global)"
   ]
  },
  {
   "cell_type": "code",
   "execution_count": null,
   "metadata": {},
   "outputs": [],
   "source": []
  },
  {
   "cell_type": "markdown",
   "metadata": {},
   "source": [
    "# Algorithme de décomposition K-shell"
   ]
  },
  {
   "cell_type": "markdown",
   "metadata": {},
   "source": [
    "# Complexité temporelle"
   ]
  },
  {
   "cell_type": "code",
   "execution_count": null,
   "metadata": {},
   "outputs": [],
   "source": []
  }
 ],
 "metadata": {
  "kernelspec": {
   "display_name": "Python 2.7",
   "language": "python",
   "name": "python_2.7"
  },
  "language_info": {
   "codemirror_mode": {
    "name": "ipython",
    "version": 2
   },
   "file_extension": ".py",
   "mimetype": "text/x-python",
   "name": "python",
   "nbconvert_exporter": "python",
   "pygments_lexer": "ipython2",
   "version": "2.7.14"
  }
 },
 "nbformat": 4,
 "nbformat_minor": 2
}
